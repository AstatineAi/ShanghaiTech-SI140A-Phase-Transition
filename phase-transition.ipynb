{
 "cells": [
  {
   "cell_type": "markdown",
   "metadata": {},
   "source": [
    "# SI140A Final Project - Phase Transition\n",
    "\n",
    "Team members:\n",
    "\n",
    "- Hengyu Ai (aihy2023<at>shanghaitech.edu.cn)\n",
    "- Zebang He (hezb2023<at>shanghaitech.edu.cn)\n",
    "- Sizhe Zhao (zhaoszh2023<at>shanghaitech.edu.cn)"
   ]
  },
  {
   "cell_type": "markdown",
   "metadata": {},
   "source": [
    "## Part I: Percolation\n",
    "\n",
    "### Problem Description\n",
    "\n",
    "Using an $n \\times n$ grid as a percolation model, we want to find the percolation threshold $p^*$, which is the probability that a site is open, such that the system percolates. A system percolates if there is a path of open sites from the top to the bottom of the grid.\n",
    "\n",
    "### Solution\n",
    "\n",
    "<!-- TODO: -->"
   ]
  },
  {
   "cell_type": "code",
   "execution_count": null,
   "metadata": {},
   "outputs": [],
   "source": [
    "# TODO: Monte Carlo Simulation"
   ]
  },
  {
   "cell_type": "markdown",
   "metadata": {},
   "source": [
    "## Part II: Ising Model\n",
    "\n",
    "### Problem Description\n",
    "\n",
    "<!-- TODO: -->"
   ]
  }
 ],
 "metadata": {
  "kernelspec": {
   "display_name": "si140a",
   "language": "python",
   "name": "python3"
  },
  "language_info": {
   "name": "python",
   "version": "3.13.1"
  }
 },
 "nbformat": 4,
 "nbformat_minor": 2
}
